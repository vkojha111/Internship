{
 "cells": [
  {
   "cell_type": "markdown",
   "id": "9933b02c",
   "metadata": {},
   "source": [
    "# Solution 1: Data Analyst Job position in Bangalore location"
   ]
  },
  {
   "cell_type": "code",
   "execution_count": 1,
   "id": "f0b7bbfb",
   "metadata": {},
   "outputs": [],
   "source": [
    "import selenium\n",
    "import pandas as pd\n",
    "from selenium import webdriver\n",
    "import warnings\n",
    "warnings.filterwarnings('ignore')\n",
    "from selenium.webdriver.common.by import By\n",
    "import time"
   ]
  },
  {
   "cell_type": "code",
   "execution_count": 2,
   "id": "15bd98e8",
   "metadata": {},
   "outputs": [],
   "source": [
    "driver = webdriver.Chrome(r\"‪C:\\Users\\VK Ojha\\Downloads\\chromedriver_win32\\chromedriver.exe\")"
   ]
  },
  {
   "cell_type": "code",
   "execution_count": 3,
   "id": "9dfe16a8",
   "metadata": {},
   "outputs": [],
   "source": [
    "driver.get(\"https://www.naukri.com/\")"
   ]
  },
  {
   "cell_type": "code",
   "execution_count": 6,
   "id": "582c44ba",
   "metadata": {},
   "outputs": [],
   "source": [
    "designation = driver.find_element(By.CLASS_NAME,\"suggestor-input \")\n",
    "designation.send_keys('Data Analyst')"
   ]
  },
  {
   "cell_type": "code",
   "execution_count": 7,
   "id": "b746be87",
   "metadata": {},
   "outputs": [],
   "source": [
    "location = driver.find_element(By.XPATH,\"/html/body/div[1]/div[7]/div/div/div[5]/div/div/div/div[1]/div/input\")\n",
    "location.send_keys('Bangalore')"
   ]
  },
  {
   "cell_type": "code",
   "execution_count": 8,
   "id": "7867f29e",
   "metadata": {},
   "outputs": [],
   "source": [
    "search = driver.find_element(By.CLASS_NAME,\"qsbSubmit\")\n",
    "search.click()"
   ]
  },
  {
   "cell_type": "code",
   "execution_count": 9,
   "id": "79bea011",
   "metadata": {},
   "outputs": [],
   "source": [
    "job_title=[]\n",
    "job_location=[]\n",
    "company_name=[]\n",
    "experience_required=[]"
   ]
  },
  {
   "cell_type": "code",
   "execution_count": 10,
   "id": "63991ba9",
   "metadata": {},
   "outputs": [],
   "source": [
    "title_tags=driver.find_elements(By.XPATH,'//a[@class=\"title ellipsis\"]')\n",
    "for i in title_tags[0:10]:\n",
    "    title=i.text\n",
    "    job_title.append(title)\n",
    "    \n",
    "    \n",
    "location=driver.find_elements(By.XPATH,'//span[@class=\"ellipsis fleft locWdth\"]')\n",
    "for i in location[0:10]:\n",
    "    loc=i.text\n",
    "    job_location.append(loc)\n",
    "    \n",
    "company_tags=driver.find_elements(By.XPATH,'//a[@class=\"subTitle ellipsis fleft\"]')\n",
    "for i in company_tags[0:10]:\n",
    "    com=i.text\n",
    "    company_name.append(com)\n",
    "    \n",
    "    \n",
    "Exp_tags=driver.find_elements(By.XPATH,'//span[@class=\"ellipsis fleft expwdth\"]')\n",
    "for i in Exp_tags[0:10]:\n",
    "    exp=i.text\n",
    "    experience_required.append(exp)"
   ]
  },
  {
   "cell_type": "code",
   "execution_count": 11,
   "id": "1dac8d89",
   "metadata": {},
   "outputs": [
    {
     "name": "stdout",
     "output_type": "stream",
     "text": [
      "10 10 10 10\n"
     ]
    }
   ],
   "source": [
    "print(len(job_title),len(job_location),len(company_name),len(experience_required))"
   ]
  },
  {
   "cell_type": "code",
   "execution_count": 12,
   "id": "f1aa2208",
   "metadata": {},
   "outputs": [
    {
     "data": {
      "text/html": [
       "<div>\n",
       "<style scoped>\n",
       "    .dataframe tbody tr th:only-of-type {\n",
       "        vertical-align: middle;\n",
       "    }\n",
       "\n",
       "    .dataframe tbody tr th {\n",
       "        vertical-align: top;\n",
       "    }\n",
       "\n",
       "    .dataframe thead th {\n",
       "        text-align: right;\n",
       "    }\n",
       "</style>\n",
       "<table border=\"1\" class=\"dataframe\">\n",
       "  <thead>\n",
       "    <tr style=\"text-align: right;\">\n",
       "      <th></th>\n",
       "      <th>title</th>\n",
       "      <th>loc</th>\n",
       "      <th>com</th>\n",
       "      <th>exp</th>\n",
       "    </tr>\n",
       "  </thead>\n",
       "  <tbody>\n",
       "    <tr>\n",
       "      <th>0</th>\n",
       "      <td>Data Analyst</td>\n",
       "      <td>Bangalore/Bengaluru</td>\n",
       "      <td>ANZ</td>\n",
       "      <td>6-9 Yrs</td>\n",
       "    </tr>\n",
       "    <tr>\n",
       "      <th>1</th>\n",
       "      <td>Data Analyst</td>\n",
       "      <td>Bangalore/Bengaluru</td>\n",
       "      <td>ANZ</td>\n",
       "      <td>6-10 Yrs</td>\n",
       "    </tr>\n",
       "    <tr>\n",
       "      <th>2</th>\n",
       "      <td>Data Analyst - IIT/BITS/Startups</td>\n",
       "      <td>Bangalore/Bengaluru</td>\n",
       "      <td>AVE Promagne</td>\n",
       "      <td>1-5 Yrs</td>\n",
       "    </tr>\n",
       "    <tr>\n",
       "      <th>3</th>\n",
       "      <td>Data Analyst - FinTech</td>\n",
       "      <td>Bangalore/Bengaluru, Mumbai, Hyderabad/Secunde...</td>\n",
       "      <td>Primo Hiring</td>\n",
       "      <td>1-2 Yrs</td>\n",
       "    </tr>\n",
       "    <tr>\n",
       "      <th>4</th>\n",
       "      <td>Data Analyst - FinTech</td>\n",
       "      <td>Bangalore/Bengaluru, Kolkata, Mumbai, Hyderaba...</td>\n",
       "      <td>Primo Hiring</td>\n",
       "      <td>1-2 Yrs</td>\n",
       "    </tr>\n",
       "    <tr>\n",
       "      <th>5</th>\n",
       "      <td>Data Analyst - FinTech</td>\n",
       "      <td>Bangalore/Bengaluru, Kolkata, Mumbai, Hyderaba...</td>\n",
       "      <td>Primo Hiring</td>\n",
       "      <td>1-2 Yrs</td>\n",
       "    </tr>\n",
       "    <tr>\n",
       "      <th>6</th>\n",
       "      <td>Data Analyst - IIT/BITS/Startups</td>\n",
       "      <td>Bangalore/Bengaluru</td>\n",
       "      <td>AVE Promagne</td>\n",
       "      <td>1-5 Yrs</td>\n",
       "    </tr>\n",
       "    <tr>\n",
       "      <th>7</th>\n",
       "      <td>Data Analyst</td>\n",
       "      <td>Bangalore/Bengaluru</td>\n",
       "      <td>Siemens</td>\n",
       "      <td>4-6 Yrs</td>\n",
       "    </tr>\n",
       "    <tr>\n",
       "      <th>8</th>\n",
       "      <td>Banking Data Analyst</td>\n",
       "      <td>Bangalore/Bengaluru, Hyderabad/Secunderabad, G...</td>\n",
       "      <td>Coforge</td>\n",
       "      <td>5-10 Yrs</td>\n",
       "    </tr>\n",
       "    <tr>\n",
       "      <th>9</th>\n",
       "      <td>Data Analyst</td>\n",
       "      <td>Bangalore/Bengaluru</td>\n",
       "      <td>Dpdzero</td>\n",
       "      <td>1-3 Yrs</td>\n",
       "    </tr>\n",
       "  </tbody>\n",
       "</table>\n",
       "</div>"
      ],
      "text/plain": [
       "                              title  \\\n",
       "0                      Data Analyst   \n",
       "1                      Data Analyst   \n",
       "2  Data Analyst - IIT/BITS/Startups   \n",
       "3            Data Analyst - FinTech   \n",
       "4            Data Analyst - FinTech   \n",
       "5            Data Analyst - FinTech   \n",
       "6  Data Analyst - IIT/BITS/Startups   \n",
       "7                      Data Analyst   \n",
       "8              Banking Data Analyst   \n",
       "9                      Data Analyst   \n",
       "\n",
       "                                                 loc           com       exp  \n",
       "0                                Bangalore/Bengaluru           ANZ   6-9 Yrs  \n",
       "1                                Bangalore/Bengaluru           ANZ  6-10 Yrs  \n",
       "2                                Bangalore/Bengaluru  AVE Promagne   1-5 Yrs  \n",
       "3  Bangalore/Bengaluru, Mumbai, Hyderabad/Secunde...  Primo Hiring   1-2 Yrs  \n",
       "4  Bangalore/Bengaluru, Kolkata, Mumbai, Hyderaba...  Primo Hiring   1-2 Yrs  \n",
       "5  Bangalore/Bengaluru, Kolkata, Mumbai, Hyderaba...  Primo Hiring   1-2 Yrs  \n",
       "6                                Bangalore/Bengaluru  AVE Promagne   1-5 Yrs  \n",
       "7                                Bangalore/Bengaluru       Siemens   4-6 Yrs  \n",
       "8  Bangalore/Bengaluru, Hyderabad/Secunderabad, G...       Coforge  5-10 Yrs  \n",
       "9                                Bangalore/Bengaluru       Dpdzero   1-3 Yrs  "
      ]
     },
     "execution_count": 12,
     "metadata": {},
     "output_type": "execute_result"
    }
   ],
   "source": [
    "df = pd.DataFrame({'title':job_title,'loc':job_location,'com':company_name,'exp':experience_required})\n",
    "df"
   ]
  },
  {
   "cell_type": "code",
   "execution_count": 4,
   "id": "57d85269",
   "metadata": {},
   "outputs": [],
   "source": [
    "driver.close()"
   ]
  },
  {
   "cell_type": "code",
   "execution_count": null,
   "id": "f802f128",
   "metadata": {},
   "outputs": [],
   "source": []
  },
  {
   "cell_type": "markdown",
   "id": "2dc96fea",
   "metadata": {},
   "source": [
    "# Solution 2: Data Scientist Job position in Bangalore location"
   ]
  },
  {
   "cell_type": "code",
   "execution_count": 23,
   "id": "04358a7e",
   "metadata": {},
   "outputs": [],
   "source": [
    "driver = webdriver.Chrome(r\"‪C:\\Users\\VK Ojha\\Downloads\\chromedriver_win32\\chromedriver.exe\")"
   ]
  },
  {
   "cell_type": "code",
   "execution_count": 24,
   "id": "81a17214",
   "metadata": {},
   "outputs": [],
   "source": [
    "driver.get(\"https://www.naukri.com/\")"
   ]
  },
  {
   "cell_type": "code",
   "execution_count": 45,
   "id": "2ce76497",
   "metadata": {},
   "outputs": [],
   "source": [
    "designation = driver.find_element(By.CLASS_NAME,\"suggestor-input \")\n",
    "designation.send_keys('Data Scientist')"
   ]
  },
  {
   "cell_type": "code",
   "execution_count": 46,
   "id": "ddb0f1e3",
   "metadata": {},
   "outputs": [],
   "source": [
    "location = driver.find_element(By.XPATH,'/html/body/div[1]/div[7]/div/div/div[5]/div/div/div/div[1]/div/input')\n",
    "location.send_keys('Bangalore')"
   ]
  },
  {
   "cell_type": "code",
   "execution_count": 47,
   "id": "e2c1b122",
   "metadata": {},
   "outputs": [],
   "source": [
    "search = driver.find_element(By.CLASS_NAME,'qsbSubmit')\n",
    "search.click()"
   ]
  },
  {
   "cell_type": "code",
   "execution_count": 48,
   "id": "7a6b0131",
   "metadata": {},
   "outputs": [],
   "source": [
    "Job_title =[]\n",
    "Job_location=[]\n",
    "Company_name=[]"
   ]
  },
  {
   "cell_type": "code",
   "execution_count": 19,
   "id": "bb7fc84c",
   "metadata": {},
   "outputs": [],
   "source": [
    "\n",
    "title_tags = driver.find_elements(By.XPATH,'//a[@class=\"title ellipsis\"]')\n",
    "for i in title_tags[0:10]:\n",
    "    title=i.text\n",
    "    Job_title.append(title)\n",
    "    \n",
    "    \n",
    "location_title = driver.find_elements(By.XPATH,'//span[@class=\"ellipsis fleft locWdth\"]')\n",
    "for i in location_title[0:10]:\n",
    "    loc_title = i.text\n",
    "    Job_location.append(loc_title)\n",
    "    \n",
    "    \n",
    "Company_title = driver.find_elements(By.XPATH,'//a[@class=\"subTitle ellipsis fleft\"]')\n",
    "for i in Company_title[0:10]:\n",
    "    Com_title = i.text\n",
    "    Company_name.append(Com_title)\n",
    "    \n",
    "    "
   ]
  },
  {
   "cell_type": "code",
   "execution_count": 20,
   "id": "a291a569",
   "metadata": {},
   "outputs": [
    {
     "name": "stdout",
     "output_type": "stream",
     "text": [
      "9 12 12\n"
     ]
    }
   ],
   "source": [
    "print(len('Job_title'),len('Job_location'),len('Company_name'))"
   ]
  },
  {
   "cell_type": "code",
   "execution_count": 26,
   "id": "7a10bcfc",
   "metadata": {},
   "outputs": [
    {
     "data": {
      "text/html": [
       "<div>\n",
       "<style scoped>\n",
       "    .dataframe tbody tr th:only-of-type {\n",
       "        vertical-align: middle;\n",
       "    }\n",
       "\n",
       "    .dataframe tbody tr th {\n",
       "        vertical-align: top;\n",
       "    }\n",
       "\n",
       "    .dataframe thead th {\n",
       "        text-align: right;\n",
       "    }\n",
       "</style>\n",
       "<table border=\"1\" class=\"dataframe\">\n",
       "  <thead>\n",
       "    <tr style=\"text-align: right;\">\n",
       "      <th></th>\n",
       "      <th>title</th>\n",
       "      <th>loc_title</th>\n",
       "      <th>Com_title</th>\n",
       "    </tr>\n",
       "  </thead>\n",
       "  <tbody>\n",
       "    <tr>\n",
       "      <th>0</th>\n",
       "      <td>Data Science Specialist</td>\n",
       "      <td>Bangalore/Bengaluru, Kolkata, Mumbai, Hyderaba...</td>\n",
       "      <td>Accenture</td>\n",
       "    </tr>\n",
       "    <tr>\n",
       "      <th>1</th>\n",
       "      <td>Data Scientist_NLP</td>\n",
       "      <td>Bangalore/Bengaluru, Mumbai, Pune, Chennai, Gu...</td>\n",
       "      <td>Fractal Analytics</td>\n",
       "    </tr>\n",
       "    <tr>\n",
       "      <th>2</th>\n",
       "      <td>Machine Learning (AI) Architect</td>\n",
       "      <td>Bangalore/Bengaluru, Kolkata, Mumbai, New Delh...</td>\n",
       "      <td>Persistent</td>\n",
       "    </tr>\n",
       "    <tr>\n",
       "      <th>3</th>\n",
       "      <td>Data Science Analyst</td>\n",
       "      <td>Bangalore/Bengaluru</td>\n",
       "      <td>Accenture</td>\n",
       "    </tr>\n",
       "    <tr>\n",
       "      <th>4</th>\n",
       "      <td>Data Scientist</td>\n",
       "      <td>Bangalore/Bengaluru</td>\n",
       "      <td>IBM</td>\n",
       "    </tr>\n",
       "    <tr>\n",
       "      <th>5</th>\n",
       "      <td>Data Scientist- Bangalore</td>\n",
       "      <td>Bangalore/Bengaluru</td>\n",
       "      <td>Trigent Software</td>\n",
       "    </tr>\n",
       "    <tr>\n",
       "      <th>6</th>\n",
       "      <td>Data Science Analyst - Data Science</td>\n",
       "      <td>Bangalore/Bengaluru</td>\n",
       "      <td>Accenture</td>\n",
       "    </tr>\n",
       "    <tr>\n",
       "      <th>7</th>\n",
       "      <td>Data Science Analyst Data Science</td>\n",
       "      <td>Bangalore/Bengaluru</td>\n",
       "      <td>Accenture</td>\n",
       "    </tr>\n",
       "    <tr>\n",
       "      <th>8</th>\n",
       "      <td>Analytics Specialist - Artificial Intelligence...</td>\n",
       "      <td>Bangalore/Bengaluru</td>\n",
       "      <td>Accenture</td>\n",
       "    </tr>\n",
       "    <tr>\n",
       "      <th>9</th>\n",
       "      <td>Senior Data Scientist</td>\n",
       "      <td>Bangalore/Bengaluru</td>\n",
       "      <td>Walmart</td>\n",
       "    </tr>\n",
       "  </tbody>\n",
       "</table>\n",
       "</div>"
      ],
      "text/plain": [
       "                                               title  \\\n",
       "0                            Data Science Specialist   \n",
       "1                                 Data Scientist_NLP   \n",
       "2                    Machine Learning (AI) Architect   \n",
       "3                               Data Science Analyst   \n",
       "4                                     Data Scientist   \n",
       "5                          Data Scientist- Bangalore   \n",
       "6                Data Science Analyst - Data Science   \n",
       "7                  Data Science Analyst Data Science   \n",
       "8  Analytics Specialist - Artificial Intelligence...   \n",
       "9                              Senior Data Scientist   \n",
       "\n",
       "                                           loc_title          Com_title  \n",
       "0  Bangalore/Bengaluru, Kolkata, Mumbai, Hyderaba...          Accenture  \n",
       "1  Bangalore/Bengaluru, Mumbai, Pune, Chennai, Gu...  Fractal Analytics  \n",
       "2  Bangalore/Bengaluru, Kolkata, Mumbai, New Delh...         Persistent  \n",
       "3                                Bangalore/Bengaluru          Accenture  \n",
       "4                                Bangalore/Bengaluru                IBM  \n",
       "5                                Bangalore/Bengaluru   Trigent Software  \n",
       "6                                Bangalore/Bengaluru          Accenture  \n",
       "7                                Bangalore/Bengaluru          Accenture  \n",
       "8                                Bangalore/Bengaluru          Accenture  \n",
       "9                                Bangalore/Bengaluru            Walmart  "
      ]
     },
     "execution_count": 26,
     "metadata": {},
     "output_type": "execute_result"
    }
   ],
   "source": [
    "df = pd.DataFrame({'title':Job_title,'loc_title':Job_location,'Com_title':Company_name})\n",
    "df"
   ]
  },
  {
   "cell_type": "code",
   "execution_count": null,
   "id": "d7d28e6c",
   "metadata": {},
   "outputs": [],
   "source": [
    "driver.close()"
   ]
  },
  {
   "cell_type": "markdown",
   "id": "79c28bb0",
   "metadata": {},
   "source": [
    "# Solution 3: Scrape data using the filters available on the webpage"
   ]
  },
  {
   "cell_type": "code",
   "execution_count": 54,
   "id": "b56e52a5",
   "metadata": {},
   "outputs": [],
   "source": [
    "driver = webdriver.Chrome(r\"‪C:\\Users\\VK Ojha\\Downloads\\chromedriver_win32\\chromedriver.exe\")"
   ]
  },
  {
   "cell_type": "code",
   "execution_count": 55,
   "id": "ad76c88e",
   "metadata": {},
   "outputs": [],
   "source": [
    "driver.get(\"https://www.naukri.com/\")"
   ]
  },
  {
   "cell_type": "code",
   "execution_count": 56,
   "id": "ec57246f",
   "metadata": {},
   "outputs": [],
   "source": [
    "designation = driver.find_element(By.CLASS_NAME,\"suggestor-input\")\n",
    "designation.send_keys('Data Scientist')"
   ]
  },
  {
   "cell_type": "code",
   "execution_count": 57,
   "id": "08f7a850",
   "metadata": {},
   "outputs": [],
   "source": [
    "Location = driver.find_element(By.XPATH,'/html/body/div[1]/div[7]/div/div/div[5]/div/div/div/div[1]/div/input')\n",
    "Location.send_keys('Delhi/NCR')"
   ]
  },
  {
   "cell_type": "code",
   "execution_count": 58,
   "id": "77c03c5f",
   "metadata": {},
   "outputs": [],
   "source": [
    "Serch = driver.find_element(By.CLASS_NAME,'qsbSubmit')\n",
    "Serch.click()"
   ]
  },
  {
   "cell_type": "code",
   "execution_count": 59,
   "id": "1e0b4b22",
   "metadata": {},
   "outputs": [],
   "source": [
    "Job_title = []\n",
    "Job_location = []\n",
    "Company_name = []\n",
    "Experience_required = []"
   ]
  },
  {
   "cell_type": "code",
   "execution_count": 60,
   "id": "f594f6e6",
   "metadata": {},
   "outputs": [],
   "source": [
    "title_tags = driver.find_elements(By.XPATH,'//a[@class=\"title ellipsis\"]')\n",
    "for i in title_tags[0:10]:\n",
    "    job_title = i.text\n",
    "    Job_title.append(job_title)\n",
    "    \n",
    "Location_tags = driver.find_elements(By.XPATH,'//span[@class=\"ellipsis fleft locWdth\"]')\n",
    "for i in Location_tags[0:10]:\n",
    "    Job_Location = i.text\n",
    "    Job_location.append(Job_Location)\n",
    "    \n",
    "Company_tags = driver.find_elements(By.XPATH,'//a[@class=\"subTitle ellipsis fleft\"]')\n",
    "for i in Company_tags[0:10]:\n",
    "    Company_Name = i.text\n",
    "    Company_name.append(Company_Name)\n",
    "    \n",
    "Exp_Req = driver.find_elements(By.XPATH,'//span[@class=\"ellipsis fleft expwdth\"]')\n",
    "for i in Exp_Req[0:10]:\n",
    "    Experience_Required = i.text\n",
    "    Experience_required.append(Experience_Required)"
   ]
  },
  {
   "cell_type": "code",
   "execution_count": 61,
   "id": "f7acc020",
   "metadata": {},
   "outputs": [
    {
     "name": "stdout",
     "output_type": "stream",
     "text": [
      "9 12 12 19\n"
     ]
    }
   ],
   "source": [
    "print(len('Job_title'),len('Job_location'),len('Company_name'),len('Experience_required'))"
   ]
  },
  {
   "cell_type": "code",
   "execution_count": 66,
   "id": "1ed0b37e",
   "metadata": {},
   "outputs": [
    {
     "data": {
      "text/html": [
       "<div>\n",
       "<style scoped>\n",
       "    .dataframe tbody tr th:only-of-type {\n",
       "        vertical-align: middle;\n",
       "    }\n",
       "\n",
       "    .dataframe tbody tr th {\n",
       "        vertical-align: top;\n",
       "    }\n",
       "\n",
       "    .dataframe thead th {\n",
       "        text-align: right;\n",
       "    }\n",
       "</style>\n",
       "<table border=\"1\" class=\"dataframe\">\n",
       "  <thead>\n",
       "    <tr style=\"text-align: right;\">\n",
       "      <th></th>\n",
       "      <th>Job_title</th>\n",
       "      <th>Job_location</th>\n",
       "      <th>Company_name</th>\n",
       "      <th>Experience_required</th>\n",
       "    </tr>\n",
       "  </thead>\n",
       "  <tbody>\n",
       "    <tr>\n",
       "      <th>0</th>\n",
       "      <td>Data Scientist_NLP</td>\n",
       "      <td>Delhi / NCR, Kolkata, Mumbai, Nagpur, Hyderaba...</td>\n",
       "      <td>TRH Consultancy Services</td>\n",
       "      <td>4-9 Yrs</td>\n",
       "    </tr>\n",
       "    <tr>\n",
       "      <th>1</th>\n",
       "      <td>Machine Learning (AI) Architect</td>\n",
       "      <td>Delhi / NCR, Kolkata, Mumbai, Nagpur, Hyderaba...</td>\n",
       "      <td>TRH Consultancy Services</td>\n",
       "      <td>4-9 Yrs</td>\n",
       "    </tr>\n",
       "    <tr>\n",
       "      <th>2</th>\n",
       "      <td>Opportunity | Data Scientist | Tavant India</td>\n",
       "      <td>Delhi / NCR, Kolkata, Mumbai, Nagpur, Hyderaba...</td>\n",
       "      <td>TRH Consultancy Services</td>\n",
       "      <td>4-9 Yrs</td>\n",
       "    </tr>\n",
       "    <tr>\n",
       "      <th>3</th>\n",
       "      <td>Sr. Data Scientist - Python / ML / DL</td>\n",
       "      <td>Delhi / NCR, Kolkata, Mumbai, Nagpur, Hyderaba...</td>\n",
       "      <td>TRH Consultancy Services</td>\n",
       "      <td>4-9 Yrs</td>\n",
       "    </tr>\n",
       "    <tr>\n",
       "      <th>4</th>\n",
       "      <td>Data Scientist - Engine Algorithm</td>\n",
       "      <td>Delhi / NCR, Kolkata, Mumbai, Nagpur, Hyderaba...</td>\n",
       "      <td>TRH Consultancy Services</td>\n",
       "      <td>4-9 Yrs</td>\n",
       "    </tr>\n",
       "    <tr>\n",
       "      <th>5</th>\n",
       "      <td>Data Scientist - Engine Algorithm</td>\n",
       "      <td>Delhi / NCR, Kolkata, Mumbai, Nagpur, Hyderaba...</td>\n",
       "      <td>TRH Consultancy Services</td>\n",
       "      <td>4-9 Yrs</td>\n",
       "    </tr>\n",
       "    <tr>\n",
       "      <th>6</th>\n",
       "      <td>Data Scientist</td>\n",
       "      <td>Delhi / NCR, Kolkata, Mumbai, Nagpur, Hyderaba...</td>\n",
       "      <td>TRH Consultancy Services</td>\n",
       "      <td>4-9 Yrs</td>\n",
       "    </tr>\n",
       "    <tr>\n",
       "      <th>7</th>\n",
       "      <td>Data Scientist- Python/ML/DL</td>\n",
       "      <td>Delhi / NCR, Kolkata, Mumbai, Nagpur, Hyderaba...</td>\n",
       "      <td>TRH Consultancy Services</td>\n",
       "      <td>4-9 Yrs</td>\n",
       "    </tr>\n",
       "    <tr>\n",
       "      <th>8</th>\n",
       "      <td>Data Scientist - Engine Algorithm</td>\n",
       "      <td>Delhi / NCR, Kolkata, Mumbai, Nagpur, Hyderaba...</td>\n",
       "      <td>TRH Consultancy Services</td>\n",
       "      <td>4-9 Yrs</td>\n",
       "    </tr>\n",
       "    <tr>\n",
       "      <th>9</th>\n",
       "      <td>Data Scientist with Retail Domain</td>\n",
       "      <td>Delhi / NCR, Kolkata, Mumbai, Nagpur, Hyderaba...</td>\n",
       "      <td>TRH Consultancy Services</td>\n",
       "      <td>4-9 Yrs</td>\n",
       "    </tr>\n",
       "  </tbody>\n",
       "</table>\n",
       "</div>"
      ],
      "text/plain": [
       "                                     Job_title  \\\n",
       "0                           Data Scientist_NLP   \n",
       "1              Machine Learning (AI) Architect   \n",
       "2  Opportunity | Data Scientist | Tavant India   \n",
       "3        Sr. Data Scientist - Python / ML / DL   \n",
       "4            Data Scientist - Engine Algorithm   \n",
       "5            Data Scientist - Engine Algorithm   \n",
       "6                               Data Scientist   \n",
       "7                 Data Scientist- Python/ML/DL   \n",
       "8            Data Scientist - Engine Algorithm   \n",
       "9            Data Scientist with Retail Domain   \n",
       "\n",
       "                                        Job_location  \\\n",
       "0  Delhi / NCR, Kolkata, Mumbai, Nagpur, Hyderaba...   \n",
       "1  Delhi / NCR, Kolkata, Mumbai, Nagpur, Hyderaba...   \n",
       "2  Delhi / NCR, Kolkata, Mumbai, Nagpur, Hyderaba...   \n",
       "3  Delhi / NCR, Kolkata, Mumbai, Nagpur, Hyderaba...   \n",
       "4  Delhi / NCR, Kolkata, Mumbai, Nagpur, Hyderaba...   \n",
       "5  Delhi / NCR, Kolkata, Mumbai, Nagpur, Hyderaba...   \n",
       "6  Delhi / NCR, Kolkata, Mumbai, Nagpur, Hyderaba...   \n",
       "7  Delhi / NCR, Kolkata, Mumbai, Nagpur, Hyderaba...   \n",
       "8  Delhi / NCR, Kolkata, Mumbai, Nagpur, Hyderaba...   \n",
       "9  Delhi / NCR, Kolkata, Mumbai, Nagpur, Hyderaba...   \n",
       "\n",
       "               Company_name Experience_required  \n",
       "0  TRH Consultancy Services             4-9 Yrs  \n",
       "1  TRH Consultancy Services             4-9 Yrs  \n",
       "2  TRH Consultancy Services             4-9 Yrs  \n",
       "3  TRH Consultancy Services             4-9 Yrs  \n",
       "4  TRH Consultancy Services             4-9 Yrs  \n",
       "5  TRH Consultancy Services             4-9 Yrs  \n",
       "6  TRH Consultancy Services             4-9 Yrs  \n",
       "7  TRH Consultancy Services             4-9 Yrs  \n",
       "8  TRH Consultancy Services             4-9 Yrs  \n",
       "9  TRH Consultancy Services             4-9 Yrs  "
      ]
     },
     "execution_count": 66,
     "metadata": {},
     "output_type": "execute_result"
    }
   ],
   "source": [
    "df = pd.DataFrame()\n",
    "df['Job_title'] = Job_title\n",
    "df['Job_location'] = Job_Location\n",
    "df['Company_name'] = Company_Name\n",
    "df['Experience_required'] = Experience_Required\n",
    "df"
   ]
  },
  {
   "cell_type": "code",
   "execution_count": null,
   "id": "58babf1f",
   "metadata": {},
   "outputs": [],
   "source": [
    "driver.close()"
   ]
  },
  {
   "cell_type": "markdown",
   "id": "61b63494",
   "metadata": {},
   "source": [
    "# Solution 4: Scrape data of first 100 sunglasses listings on flipkart.com"
   ]
  },
  {
   "cell_type": "code",
   "execution_count": 74,
   "id": "9de6184a",
   "metadata": {},
   "outputs": [],
   "source": [
    "driver = webdriver.Chrome(r'‪C:\\Users\\VK Ojha\\Downloads\\chromedriver_win32\\chromedriver.exe')"
   ]
  },
  {
   "cell_type": "code",
   "execution_count": 75,
   "id": "15a763c0",
   "metadata": {},
   "outputs": [],
   "source": [
    "driver.get('http://www.flipkart.com/')"
   ]
  },
  {
   "cell_type": "code",
   "execution_count": 76,
   "id": "685acf78",
   "metadata": {},
   "outputs": [],
   "source": [
    "Sunglasses = driver.find_element(By.CLASS_NAME,'_3704LK')\n",
    "Sunglasses.send_keys('sunglasses')"
   ]
  },
  {
   "cell_type": "code",
   "execution_count": 78,
   "id": "add0db24",
   "metadata": {},
   "outputs": [],
   "source": [
    "Serch = driver.find_element(By.CLASS_NAME,'L0Z3Pu')\n",
    "Serch.click()"
   ]
  },
  {
   "cell_type": "code",
   "execution_count": 79,
   "id": "4fefb93a",
   "metadata": {},
   "outputs": [],
   "source": [
    "Model_title = []\n",
    "Brand_title = []\n",
    "MRP_title =  []\n",
    "Discount_title = []"
   ]
  },
  {
   "cell_type": "code",
   "execution_count": 80,
   "id": "f7c18a4b",
   "metadata": {},
   "outputs": [],
   "source": [
    "start = 0\n",
    "end = 3\n",
    "for page in range(start,end):\n",
    "    Model_Name = driver.find_elements(By.XPATH,'//div[@class=\"_2WkVRV\"]')\n",
    "    for i in Model_Name:\n",
    "        Model = i.text\n",
    "        Model_title.append(Model)\n",
    "    Next_Button = driver.find_element(By.XPATH,'//a[@class=\"_1LKTO3\"]')\n",
    "    Next_Button.click()\n",
    "    time.sleep(3)\n",
    "    \n",
    "start = 0\n",
    "end = 3\n",
    "for page in range(start,end):\n",
    "    Brand_Name = driver.find_elements(By.XPATH,'//a[@class=\"IRpwTa\"]')\n",
    "    for i in Brand_Name:\n",
    "        Brand = i.text\n",
    "        Brand_title.append(Brand)\n",
    "    Next_Button = driver.find_element(By.XPATH,'//a[@class=\"_1LKTO3\"]')\n",
    "    Next_Button.click()\n",
    "    time.sleep(3)\n",
    "\n",
    "    \n",
    "start = 0\n",
    "end = 3\n",
    "for page in range(start,end):\n",
    "    MRP = driver.find_elements(By.XPATH,'//div[@class=\"_30jeq3\"]')\n",
    "    for i in MRP:\n",
    "        MRP_Rs = i.text\n",
    "        MRP_title.append(MRP_Rs)\n",
    "    Next_Button = driver.find_element(By.XPATH,'//a[@class=\"_1LKTO3\"]')\n",
    "    Next_Button.click()\n",
    "    time.sleep(3)\n",
    "    \n",
    "start = 0\n",
    "end = 3\n",
    "for page in range(start,end):\n",
    "    Discount = driver.find_elements(By.XPATH,'//div[@class=\"_3Ay6Sb\"]')\n",
    "    for i in Discount:\n",
    "        discount = i.text\n",
    "        Discount_title.append(discount)\n",
    "    Next_Button = driver.find_element(By.XPATH,'//a[@class=\"_1LKTO3\"]')\n",
    "    Next_Button.click()\n",
    "    time.sleep(3)\n"
   ]
  },
  {
   "cell_type": "code",
   "execution_count": 81,
   "id": "933954a9",
   "metadata": {},
   "outputs": [
    {
     "name": "stdout",
     "output_type": "stream",
     "text": [
      "11 11 9 14\n"
     ]
    }
   ],
   "source": [
    "print(len('Model_title'),len('Brand_title'),len('MRP_title'),len('Discount_title'))"
   ]
  },
  {
   "cell_type": "code",
   "execution_count": 83,
   "id": "a9f73a1a",
   "metadata": {},
   "outputs": [
    {
     "data": {
      "text/html": [
       "<div>\n",
       "<style scoped>\n",
       "    .dataframe tbody tr th:only-of-type {\n",
       "        vertical-align: middle;\n",
       "    }\n",
       "\n",
       "    .dataframe tbody tr th {\n",
       "        vertical-align: top;\n",
       "    }\n",
       "\n",
       "    .dataframe thead th {\n",
       "        text-align: right;\n",
       "    }\n",
       "</style>\n",
       "<table border=\"1\" class=\"dataframe\">\n",
       "  <thead>\n",
       "    <tr style=\"text-align: right;\">\n",
       "      <th></th>\n",
       "      <th>Model</th>\n",
       "      <th>Brand</th>\n",
       "      <th>MRP</th>\n",
       "      <th>Discount</th>\n",
       "    </tr>\n",
       "  </thead>\n",
       "  <tbody>\n",
       "    <tr>\n",
       "      <th>0</th>\n",
       "      <td>VINCENT CHASE</td>\n",
       "      <td>UV Protection Aviator Sunglasses (Free Size)</td>\n",
       "      <td>₹849</td>\n",
       "      <td>47% off</td>\n",
       "    </tr>\n",
       "    <tr>\n",
       "      <th>1</th>\n",
       "      <td>VINCENT CHASE</td>\n",
       "      <td>UV Protection Oval Sunglasses (60)</td>\n",
       "      <td>₹965</td>\n",
       "      <td>18% off</td>\n",
       "    </tr>\n",
       "    <tr>\n",
       "      <th>2</th>\n",
       "      <td>PIRASO</td>\n",
       "      <td>Gradient, UV Protection Retro Square Sunglasse...</td>\n",
       "      <td>₹224</td>\n",
       "      <td>45% off</td>\n",
       "    </tr>\n",
       "    <tr>\n",
       "      <th>3</th>\n",
       "      <td>PIRASO</td>\n",
       "      <td>UV Protection Wayfarer Sunglasses (59)</td>\n",
       "      <td>₹268</td>\n",
       "      <td>74% off</td>\n",
       "    </tr>\n",
       "    <tr>\n",
       "      <th>4</th>\n",
       "      <td>TamTam</td>\n",
       "      <td>UV Protection Wayfarer Sunglasses (32)</td>\n",
       "      <td>₹181</td>\n",
       "      <td>86% off</td>\n",
       "    </tr>\n",
       "    <tr>\n",
       "      <th>...</th>\n",
       "      <td>...</td>\n",
       "      <td>...</td>\n",
       "      <td>...</td>\n",
       "      <td>...</td>\n",
       "    </tr>\n",
       "    <tr>\n",
       "      <th>95</th>\n",
       "      <td>VINCENT CHASE</td>\n",
       "      <td>UV Protection Wayfarer Sunglasses (56)</td>\n",
       "      <td>₹685</td>\n",
       "      <td>51% off</td>\n",
       "    </tr>\n",
       "    <tr>\n",
       "      <th>96</th>\n",
       "      <td>PIRASO</td>\n",
       "      <td>by Lenskart Polarized, UV Protection Wayfarer ...</td>\n",
       "      <td>₹174</td>\n",
       "      <td>45% off</td>\n",
       "    </tr>\n",
       "    <tr>\n",
       "      <th>97</th>\n",
       "      <td>Fastrack</td>\n",
       "      <td>UV Protection, Mirrored Wayfarer Sunglasses (57)</td>\n",
       "      <td>₹599</td>\n",
       "      <td>80% off</td>\n",
       "    </tr>\n",
       "    <tr>\n",
       "      <th>98</th>\n",
       "      <td>Fastrack</td>\n",
       "      <td>UV Protection Rectangular Sunglasses (Free Size)</td>\n",
       "      <td>₹489</td>\n",
       "      <td>86% off</td>\n",
       "    </tr>\n",
       "    <tr>\n",
       "      <th>99</th>\n",
       "      <td>VINCENT CHASE</td>\n",
       "      <td>UV Protection Wayfarer Sunglasses (Free Size)</td>\n",
       "      <td>₹499</td>\n",
       "      <td>57% off</td>\n",
       "    </tr>\n",
       "  </tbody>\n",
       "</table>\n",
       "<p>100 rows × 4 columns</p>\n",
       "</div>"
      ],
      "text/plain": [
       "            Model                                              Brand   MRP  \\\n",
       "0   VINCENT CHASE       UV Protection Aviator Sunglasses (Free Size)  ₹849   \n",
       "1   VINCENT CHASE                 UV Protection Oval Sunglasses (60)  ₹965   \n",
       "2          PIRASO  Gradient, UV Protection Retro Square Sunglasse...  ₹224   \n",
       "3          PIRASO             UV Protection Wayfarer Sunglasses (59)  ₹268   \n",
       "4          TamTam             UV Protection Wayfarer Sunglasses (32)  ₹181   \n",
       "..            ...                                                ...   ...   \n",
       "95  VINCENT CHASE             UV Protection Wayfarer Sunglasses (56)  ₹685   \n",
       "96         PIRASO  by Lenskart Polarized, UV Protection Wayfarer ...  ₹174   \n",
       "97       Fastrack   UV Protection, Mirrored Wayfarer Sunglasses (57)  ₹599   \n",
       "98       Fastrack   UV Protection Rectangular Sunglasses (Free Size)  ₹489   \n",
       "99  VINCENT CHASE      UV Protection Wayfarer Sunglasses (Free Size)  ₹499   \n",
       "\n",
       "   Discount  \n",
       "0   47% off  \n",
       "1   18% off  \n",
       "2   45% off  \n",
       "3   74% off  \n",
       "4   86% off  \n",
       "..      ...  \n",
       "95  51% off  \n",
       "96  45% off  \n",
       "97  80% off  \n",
       "98  86% off  \n",
       "99  57% off  \n",
       "\n",
       "[100 rows x 4 columns]"
      ]
     },
     "execution_count": 83,
     "metadata": {},
     "output_type": "execute_result"
    }
   ],
   "source": [
    "df = pd.DataFrame()\n",
    "df['Model']=Model_title[:100]\n",
    "df['Brand']=Brand_title[:100]\n",
    "df['MRP']=MRP_title[:100]\n",
    "df['Discount']=Discount_title[:100]\n",
    "df"
   ]
  },
  {
   "cell_type": "code",
   "execution_count": 86,
   "id": "52bb4d08",
   "metadata": {},
   "outputs": [],
   "source": [
    "driver.close()"
   ]
  },
  {
   "cell_type": "markdown",
   "id": "cc4f2e9d",
   "metadata": {},
   "source": [
    "# Solution 5: Scrape 100 reviews data from flipkart.com for iphone11 phone"
   ]
  },
  {
   "cell_type": "code",
   "execution_count": 89,
   "id": "e40f419c",
   "metadata": {},
   "outputs": [],
   "source": [
    "driver = webdriver.Chrome(r'C:\\Users\\VK Ojha\\Downloads\\chromedriver_win32\\chromedriver.exe')"
   ]
  },
  {
   "cell_type": "code",
   "execution_count": 90,
   "id": "2984e410",
   "metadata": {},
   "outputs": [],
   "source": [
    "driver.get('https://www.flipkart.com/apple-iphone-11-black-64-gb/product-reviews/itm4e5041ba101fd?pid=MOBFWQ6BXGJCEYNY&lid=LSTMOBFWQ6BXGJCEYNYZXSHRJ&market')"
   ]
  },
  {
   "cell_type": "code",
   "execution_count": 40,
   "id": "184ced5d",
   "metadata": {},
   "outputs": [],
   "source": [
    "Ratings = []\n",
    "Review = []\n",
    "Full_Review = []"
   ]
  },
  {
   "cell_type": "code",
   "execution_count": 41,
   "id": "46acfdd8",
   "metadata": {},
   "outputs": [],
   "source": [
    "start = 0\n",
    "end = 10\n",
    "for page in range(start,end):\n",
    "    Rating_title = driver.find_elements(By.XPATH,'//div[@class=\"_3LWZlK _1BLPMq\"]')\n",
    "    for i in Rating_title:\n",
    "        rating = i.text\n",
    "        Ratings.append(rating)\n",
    "    Next_Button = driver.find_element(By.XPATH,'//a[@class=\"_1LKTO3\"]')\n",
    "    Next_Button.click()\n",
    "    time.sleep(3)\n",
    "    \n",
    "start = 0\n",
    "end = 10\n",
    "for page in range(start,end):\n",
    "    Review_title = driver.find_elements(By.XPATH,'//p[@class=\"_2-N8zT\"]')\n",
    "    for i in Review_title:\n",
    "        review = i.text\n",
    "        Review.append(review)\n",
    "    Next_Button = driver.find_element(By.XPATH,'//a[@class=\"_1LKTO3\"]')\n",
    "    Next_Button.click()\n",
    "    time.sleep(3)\n",
    "\n",
    "    \n",
    "start = 0\n",
    "end = 10\n",
    "for page in range(start,end):\n",
    "    Full_review_title = driver.find_elements(By.XPATH,'//div[@class=\"t-ZTKy\"]')\n",
    "    for i in Full_review_title:\n",
    "        ful_review = i.text\n",
    "        Full_Review.append(ful_review)\n",
    "    Next_Button = driver.find_element(By.XPATH,'//a[@class=\"_1LKTO3\"]')\n",
    "    Next_Button.click()\n",
    "    time.sleep(3)"
   ]
  },
  {
   "cell_type": "code",
   "execution_count": 42,
   "id": "2cc873b1",
   "metadata": {},
   "outputs": [
    {
     "name": "stdout",
     "output_type": "stream",
     "text": [
      "7 6 11\n"
     ]
    }
   ],
   "source": [
    "print(len('Ratings'),len('Review'),len('Full_Review'))"
   ]
  },
  {
   "cell_type": "code",
   "execution_count": 44,
   "id": "d190a08f",
   "metadata": {},
   "outputs": [
    {
     "data": {
      "text/html": [
       "<div>\n",
       "<style scoped>\n",
       "    .dataframe tbody tr th:only-of-type {\n",
       "        vertical-align: middle;\n",
       "    }\n",
       "\n",
       "    .dataframe tbody tr th {\n",
       "        vertical-align: top;\n",
       "    }\n",
       "\n",
       "    .dataframe thead th {\n",
       "        text-align: right;\n",
       "    }\n",
       "</style>\n",
       "<table border=\"1\" class=\"dataframe\">\n",
       "  <thead>\n",
       "    <tr style=\"text-align: right;\">\n",
       "      <th></th>\n",
       "      <th>Ratings</th>\n",
       "      <th>Review</th>\n",
       "      <th>Full_Review</th>\n",
       "    </tr>\n",
       "  </thead>\n",
       "  <tbody>\n",
       "    <tr>\n",
       "      <th>0</th>\n",
       "      <td>5</td>\n",
       "      <td>Simply awesome</td>\n",
       "      <td>Really satisfied with the Product I received.....</td>\n",
       "    </tr>\n",
       "    <tr>\n",
       "      <th>1</th>\n",
       "      <td>5</td>\n",
       "      <td>Perfect product!</td>\n",
       "      <td>Amazing phone with great cameras and better ba...</td>\n",
       "    </tr>\n",
       "    <tr>\n",
       "      <th>2</th>\n",
       "      <td>5</td>\n",
       "      <td>Best in the market!</td>\n",
       "      <td>Great iPhone very snappy experience as apple k...</td>\n",
       "    </tr>\n",
       "    <tr>\n",
       "      <th>3</th>\n",
       "      <td>4</td>\n",
       "      <td>Value-for-money</td>\n",
       "      <td>I'm Really happy with the product\\nDelivery wa...</td>\n",
       "    </tr>\n",
       "    <tr>\n",
       "      <th>4</th>\n",
       "      <td>5</td>\n",
       "      <td>Highly recommended</td>\n",
       "      <td>It's my first time to use iOS phone and I am l...</td>\n",
       "    </tr>\n",
       "    <tr>\n",
       "      <th>5</th>\n",
       "      <td>5</td>\n",
       "      <td>Worth every penny</td>\n",
       "      <td>Previously I was using one plus 3t it was a gr...</td>\n",
       "    </tr>\n",
       "    <tr>\n",
       "      <th>6</th>\n",
       "      <td>4</td>\n",
       "      <td>Pretty good</td>\n",
       "      <td>I was using Iphone 6s and also Oneplus 6t. Bot...</td>\n",
       "    </tr>\n",
       "    <tr>\n",
       "      <th>7</th>\n",
       "      <td>5</td>\n",
       "      <td>Perfect product!</td>\n",
       "      <td>Value for money\\n5 star rating\\nExcellent came...</td>\n",
       "    </tr>\n",
       "    <tr>\n",
       "      <th>8</th>\n",
       "      <td>5</td>\n",
       "      <td>Highly recommended</td>\n",
       "      <td>What a camera .....just awesome ..you can feel...</td>\n",
       "    </tr>\n",
       "    <tr>\n",
       "      <th>9</th>\n",
       "      <td>5</td>\n",
       "      <td>Great product</td>\n",
       "      <td>Amazing Powerful and Durable Gadget.\\n\\nI’m am...</td>\n",
       "    </tr>\n",
       "  </tbody>\n",
       "</table>\n",
       "</div>"
      ],
      "text/plain": [
       "  Ratings               Review  \\\n",
       "0       5       Simply awesome   \n",
       "1       5     Perfect product!   \n",
       "2       5  Best in the market!   \n",
       "3       4      Value-for-money   \n",
       "4       5   Highly recommended   \n",
       "5       5    Worth every penny   \n",
       "6       4          Pretty good   \n",
       "7       5     Perfect product!   \n",
       "8       5   Highly recommended   \n",
       "9       5        Great product   \n",
       "\n",
       "                                         Full_Review  \n",
       "0  Really satisfied with the Product I received.....  \n",
       "1  Amazing phone with great cameras and better ba...  \n",
       "2  Great iPhone very snappy experience as apple k...  \n",
       "3  I'm Really happy with the product\\nDelivery wa...  \n",
       "4  It's my first time to use iOS phone and I am l...  \n",
       "5  Previously I was using one plus 3t it was a gr...  \n",
       "6  I was using Iphone 6s and also Oneplus 6t. Bot...  \n",
       "7  Value for money\\n5 star rating\\nExcellent came...  \n",
       "8  What a camera .....just awesome ..you can feel...  \n",
       "9  Amazing Powerful and Durable Gadget.\\n\\nI’m am...  "
      ]
     },
     "execution_count": 44,
     "metadata": {},
     "output_type": "execute_result"
    }
   ],
   "source": [
    "df = pd.DataFrame()\n",
    "df['Ratings'] =Ratings\n",
    "df['Review']=Review\n",
    "df['Full_Review']=Full_Review\n",
    "df.head(10)"
   ]
  },
  {
   "cell_type": "code",
   "execution_count": 91,
   "id": "4e361729",
   "metadata": {},
   "outputs": [],
   "source": [
    "driver.close()"
   ]
  },
  {
   "cell_type": "code",
   "execution_count": null,
   "id": "4b67b8dc",
   "metadata": {},
   "outputs": [],
   "source": []
  },
  {
   "cell_type": "markdown",
   "id": "68983a24",
   "metadata": {},
   "source": [
    "# Solution 6: Scrape data for first 100 sneakers you find when you visit flipkart.com"
   ]
  },
  {
   "cell_type": "code",
   "execution_count": 2,
   "id": "3d5822df",
   "metadata": {},
   "outputs": [],
   "source": [
    "driver = webdriver.Chrome(r'C:\\Users\\VK Ojha\\Downloads\\chromedriver_win32\\chromedriver.exe')"
   ]
  },
  {
   "cell_type": "code",
   "execution_count": 3,
   "id": "3bd11f1c",
   "metadata": {},
   "outputs": [],
   "source": [
    "driver.get('http://www.flipkart.com/')"
   ]
  },
  {
   "cell_type": "code",
   "execution_count": 4,
   "id": "508be8bd",
   "metadata": {},
   "outputs": [],
   "source": [
    "Sneakers = driver.find_element(By.CLASS_NAME,'_3704LK')\n",
    "Sneakers.send_keys('sneakers')"
   ]
  },
  {
   "cell_type": "code",
   "execution_count": 5,
   "id": "d809848f",
   "metadata": {},
   "outputs": [],
   "source": [
    "Serch = driver.find_element(By.CLASS_NAME,'L0Z3Pu')\n",
    "Serch.click()"
   ]
  },
  {
   "cell_type": "code",
   "execution_count": 6,
   "id": "5a8a560f",
   "metadata": {},
   "outputs": [],
   "source": [
    "Brand=[]\n",
    "Product_Description=[]\n",
    "Price=[]"
   ]
  },
  {
   "cell_type": "code",
   "execution_count": 9,
   "id": "8d1c62c6",
   "metadata": {},
   "outputs": [],
   "source": [
    "start = 0\n",
    "end = 3\n",
    "for page in range(start,end):\n",
    "    Brand_title = driver.find_elements(By.XPATH,'//div[@class=\"_2WkVRV\"]')\n",
    "    for i in Brand_title:\n",
    "        brand = i.text\n",
    "        Brand.append(brand)\n",
    "    Next_Butn = driver.find_element(By.XPATH,'//a[@class=\"_1LKTO3\"]')\n",
    "    Next_Butn.click()\n",
    "    time.sleep(3)\n",
    "    \n",
    "start = 0\n",
    "end = 3 \n",
    "for page in range(start,end):\n",
    "    Prod_Desc_title = driver.find_elements(By.XPATH,'//a[@class=\"IRpwTa\"]')\n",
    "    for i in Prod_Desc_title:\n",
    "        product_description = i.text\n",
    "        Product_Description.append(product_description)\n",
    "    Next_Butn = driver.find_element(By.XPATH,'//a[@class=\"_1LKTO3\"]')\n",
    "    Next_Butn.click()\n",
    "    time.sleep(3)\n",
    "    \n",
    "start = 0\n",
    "end = 3\n",
    "for page in range(start,end):\n",
    "    price_title = driver.find_elements(By.XPATH,'//div[@class=\"_30jeq3\"]')\n",
    "    for i in price_title:\n",
    "        price = i.text\n",
    "        Price.append(price)\n",
    "    Next_Butn=driver.find_element(By.XPATH,'//a[@class=\"_1LKTO3\"]')\n",
    "    Next_Butn.click()\n",
    "    time.sleep(3)"
   ]
  },
  {
   "cell_type": "code",
   "execution_count": 10,
   "id": "0957beed",
   "metadata": {},
   "outputs": [
    {
     "name": "stdout",
     "output_type": "stream",
     "text": [
      "5 19 5\n"
     ]
    }
   ],
   "source": [
    "print(len('Brand'),len('Product_Description'),len('Price'))"
   ]
  },
  {
   "cell_type": "code",
   "execution_count": 14,
   "id": "75330a16",
   "metadata": {},
   "outputs": [
    {
     "data": {
      "text/html": [
       "<div>\n",
       "<style scoped>\n",
       "    .dataframe tbody tr th:only-of-type {\n",
       "        vertical-align: middle;\n",
       "    }\n",
       "\n",
       "    .dataframe tbody tr th {\n",
       "        vertical-align: top;\n",
       "    }\n",
       "\n",
       "    .dataframe thead th {\n",
       "        text-align: right;\n",
       "    }\n",
       "</style>\n",
       "<table border=\"1\" class=\"dataframe\">\n",
       "  <thead>\n",
       "    <tr style=\"text-align: right;\">\n",
       "      <th></th>\n",
       "      <th>Brand</th>\n",
       "      <th>Product_Description</th>\n",
       "      <th>Price</th>\n",
       "    </tr>\n",
       "  </thead>\n",
       "  <tbody>\n",
       "    <tr>\n",
       "      <th>0</th>\n",
       "      <td>World Wear Footwear</td>\n",
       "      <td>Trendy Stylish Comfortable &amp; Lightweight, Casu...</td>\n",
       "      <td>₹399</td>\n",
       "    </tr>\n",
       "    <tr>\n",
       "      <th>1</th>\n",
       "      <td>RapidBox</td>\n",
       "      <td>Sneakers For Men</td>\n",
       "      <td>₹449</td>\n",
       "    </tr>\n",
       "    <tr>\n",
       "      <th>2</th>\n",
       "      <td>aadi</td>\n",
       "      <td>Sneakers For Men</td>\n",
       "      <td>₹269</td>\n",
       "    </tr>\n",
       "    <tr>\n",
       "      <th>3</th>\n",
       "      <td>BIRDE</td>\n",
       "      <td>Combo Pack of 2 Sports Shoes Sneakers For Men</td>\n",
       "      <td>₹449</td>\n",
       "    </tr>\n",
       "    <tr>\n",
       "      <th>4</th>\n",
       "      <td>Kraasa</td>\n",
       "      <td>Thunder-01 White Color Change Sneakers,Casuals...</td>\n",
       "      <td>₹449</td>\n",
       "    </tr>\n",
       "  </tbody>\n",
       "</table>\n",
       "</div>"
      ],
      "text/plain": [
       "                 Brand                                Product_Description  \\\n",
       "0  World Wear Footwear  Trendy Stylish Comfortable & Lightweight, Casu...   \n",
       "1             RapidBox                                   Sneakers For Men   \n",
       "2                 aadi                                   Sneakers For Men   \n",
       "3                BIRDE      Combo Pack of 2 Sports Shoes Sneakers For Men   \n",
       "4               Kraasa  Thunder-01 White Color Change Sneakers,Casuals...   \n",
       "\n",
       "  Price  \n",
       "0  ₹399  \n",
       "1  ₹449  \n",
       "2  ₹269  \n",
       "3  ₹449  \n",
       "4  ₹449  "
      ]
     },
     "execution_count": 14,
     "metadata": {},
     "output_type": "execute_result"
    }
   ],
   "source": [
    "df = pd.DataFrame()\n",
    "df['Brand']=Brand[:100]\n",
    "df['Product_Description']=Product_Description[:100]\n",
    "df['Price']=Price[:100]\n",
    "df.head(5)"
   ]
  },
  {
   "cell_type": "code",
   "execution_count": null,
   "id": "50000057",
   "metadata": {},
   "outputs": [],
   "source": [
    "driver.close()"
   ]
  },
  {
   "cell_type": "markdown",
   "id": "6292034d",
   "metadata": {},
   "source": [
    "# Solution 7: Laptop i7 details "
   ]
  },
  {
   "cell_type": "code",
   "execution_count": 50,
   "id": "6cc574b2",
   "metadata": {},
   "outputs": [],
   "source": [
    "driver = webdriver.Chrome(r'C:\\Users\\VK Ojha\\Downloads\\chromedriver_win32\\chromedriver.exe')"
   ]
  },
  {
   "cell_type": "code",
   "execution_count": 51,
   "id": "ecacb746",
   "metadata": {},
   "outputs": [],
   "source": [
    "driver.get('https://www.amazon.in/')"
   ]
  },
  {
   "cell_type": "code",
   "execution_count": 52,
   "id": "68b146b0",
   "metadata": {},
   "outputs": [],
   "source": [
    "Input_laptop = driver.find_element(By.XPATH,'/html/body/div[1]/header/div/div[1]/div[2]/div/form/div[2]/div[1]/input')\n",
    "Input_laptop.send_keys('Laptop')"
   ]
  },
  {
   "cell_type": "code",
   "execution_count": 53,
   "id": "64dffab1",
   "metadata": {},
   "outputs": [],
   "source": [
    "search = driver.find_element(By.CLASS_NAME,'nav-right')\n",
    "search.click()"
   ]
  },
  {
   "cell_type": "code",
   "execution_count": 54,
   "id": "2349f5da",
   "metadata": {},
   "outputs": [],
   "source": [
    "cpu = driver.find_element(By.ID,'p_n_feature_thirteen_browse-bin/12598163031')\n",
    "cpu.click()"
   ]
  },
  {
   "cell_type": "code",
   "execution_count": 37,
   "id": "834767a7",
   "metadata": {},
   "outputs": [],
   "source": [
    "Title = []\n",
    "Ratings = []\n",
    "Price = []"
   ]
  },
  {
   "cell_type": "code",
   "execution_count": 56,
   "id": "112c9cb0",
   "metadata": {},
   "outputs": [],
   "source": [
    "Title_tags = driver.find_elements(By.XPATH,'//span[@class=\"a-size-medium a-color-base a-text-normal\"]')\n",
    "for i in Title_tags:\n",
    "    title = i.text\n",
    "    Title.append(title)\n",
    "    \n",
    "Rating_tags = driver.find_elements(By.XPATH,'//span[@class=\"a-size-base s-underline-text\"]')\n",
    "for i in Rating_tags:\n",
    "    rating = i.text\n",
    "    Ratings.append(rating)\n",
    "    \n",
    "Price_tags = driver.find_elements(By.XPATH,'//span[@class=\"a-price-whole\"]')\n",
    "for i in Price_tags:\n",
    "    price = i.text\n",
    "    Price.append(price)"
   ]
  },
  {
   "cell_type": "code",
   "execution_count": 57,
   "id": "7ebb65a8",
   "metadata": {},
   "outputs": [
    {
     "name": "stdout",
     "output_type": "stream",
     "text": [
      "5 7 5\n"
     ]
    }
   ],
   "source": [
    "print(len('Title'),len('Ratings'),len('Price'))"
   ]
  },
  {
   "cell_type": "code",
   "execution_count": 58,
   "id": "d4e79516",
   "metadata": {},
   "outputs": [
    {
     "data": {
      "text/html": [
       "<div>\n",
       "<style scoped>\n",
       "    .dataframe tbody tr th:only-of-type {\n",
       "        vertical-align: middle;\n",
       "    }\n",
       "\n",
       "    .dataframe tbody tr th {\n",
       "        vertical-align: top;\n",
       "    }\n",
       "\n",
       "    .dataframe thead th {\n",
       "        text-align: right;\n",
       "    }\n",
       "</style>\n",
       "<table border=\"1\" class=\"dataframe\">\n",
       "  <thead>\n",
       "    <tr style=\"text-align: right;\">\n",
       "      <th></th>\n",
       "      <th>Title</th>\n",
       "      <th>Ratings</th>\n",
       "      <th>Price</th>\n",
       "    </tr>\n",
       "  </thead>\n",
       "  <tbody>\n",
       "    <tr>\n",
       "      <th>0</th>\n",
       "      <td>Lenovo IdeaPad Slim 3 Intel Core i3 12th Gen 1...</td>\n",
       "      <td>70</td>\n",
       "      <td>41,635</td>\n",
       "    </tr>\n",
       "    <tr>\n",
       "      <th>1</th>\n",
       "      <td>Lenovo IdeaPad 3 11th Gen Intel Core i3 15.6\" ...</td>\n",
       "      <td>549</td>\n",
       "      <td>38,990</td>\n",
       "    </tr>\n",
       "    <tr>\n",
       "      <th>2</th>\n",
       "      <td>Lenovo V15 Intel Celeron N4500 15.6\" (39.62 cm...</td>\n",
       "      <td>10</td>\n",
       "      <td>23,490</td>\n",
       "    </tr>\n",
       "    <tr>\n",
       "      <th>3</th>\n",
       "      <td>Lenovo IdeaPad Slim 3 Intel Core i3-1115G4 11t...</td>\n",
       "      <td>210</td>\n",
       "      <td>33,990</td>\n",
       "    </tr>\n",
       "    <tr>\n",
       "      <th>4</th>\n",
       "      <td>(Renewed) HP Pavilion 14 AMD Ryzen 5 5625U, 14...</td>\n",
       "      <td>35</td>\n",
       "      <td>45,598</td>\n",
       "    </tr>\n",
       "    <tr>\n",
       "      <th>5</th>\n",
       "      <td>Apple 2022 MacBook Air Laptop with M2 chip: 34...</td>\n",
       "      <td>22</td>\n",
       "      <td>14,899</td>\n",
       "    </tr>\n",
       "    <tr>\n",
       "      <th>6</th>\n",
       "      <td>(Renewed) HP Chromebook 13 G1 6th Gen Intel Co...</td>\n",
       "      <td>1,315</td>\n",
       "      <td>38,990</td>\n",
       "    </tr>\n",
       "    <tr>\n",
       "      <th>7</th>\n",
       "      <td>HP 15s, Intel Core i3-1115G4, 15.6 inch(39.6cm...</td>\n",
       "      <td>64</td>\n",
       "      <td>39,990</td>\n",
       "    </tr>\n",
       "    <tr>\n",
       "      <th>8</th>\n",
       "      <td>HP 15s,11th Gen Intel Core i3-1115G4 8GB RAM/5...</td>\n",
       "      <td>29</td>\n",
       "      <td>20,164</td>\n",
       "    </tr>\n",
       "    <tr>\n",
       "      <th>9</th>\n",
       "      <td>(Renewed) DELL Latitude 5490 Core i5 7th Gen L...</td>\n",
       "      <td>5</td>\n",
       "      <td>16,990</td>\n",
       "    </tr>\n",
       "  </tbody>\n",
       "</table>\n",
       "</div>"
      ],
      "text/plain": [
       "                                               Title Ratings   Price\n",
       "0  Lenovo IdeaPad Slim 3 Intel Core i3 12th Gen 1...      70  41,635\n",
       "1  Lenovo IdeaPad 3 11th Gen Intel Core i3 15.6\" ...     549  38,990\n",
       "2  Lenovo V15 Intel Celeron N4500 15.6\" (39.62 cm...      10  23,490\n",
       "3  Lenovo IdeaPad Slim 3 Intel Core i3-1115G4 11t...     210  33,990\n",
       "4  (Renewed) HP Pavilion 14 AMD Ryzen 5 5625U, 14...      35  45,598\n",
       "5  Apple 2022 MacBook Air Laptop with M2 chip: 34...      22  14,899\n",
       "6  (Renewed) HP Chromebook 13 G1 6th Gen Intel Co...   1,315  38,990\n",
       "7  HP 15s, Intel Core i3-1115G4, 15.6 inch(39.6cm...      64  39,990\n",
       "8  HP 15s,11th Gen Intel Core i3-1115G4 8GB RAM/5...      29  20,164\n",
       "9  (Renewed) DELL Latitude 5490 Core i5 7th Gen L...       5  16,990"
      ]
     },
     "execution_count": 58,
     "metadata": {},
     "output_type": "execute_result"
    }
   ],
   "source": [
    "df = pd.DataFrame()\n",
    "df['Title']= Title[:10]\n",
    "df['Ratings']=Ratings[:10]\n",
    "df['Price']=Price[:10]\n",
    "df"
   ]
  },
  {
   "cell_type": "code",
   "execution_count": 59,
   "id": "b8983e98",
   "metadata": {},
   "outputs": [],
   "source": [
    "driver.close()"
   ]
  },
  {
   "cell_type": "code",
   "execution_count": null,
   "id": "b77670c0",
   "metadata": {},
   "outputs": [],
   "source": []
  },
  {
   "cell_type": "markdown",
   "id": "6168eb3c",
   "metadata": {},
   "source": [
    "# Solution 8: Write a python program to scrape data for Top 1000 Quotes of All Time"
   ]
  },
  {
   "cell_type": "code",
   "execution_count": 2,
   "id": "49cb85fd",
   "metadata": {},
   "outputs": [],
   "source": [
    "driver = webdriver.Chrome(r'C:\\Users\\VK Ojha\\Downloads\\chromedriver_win32\\chromedriver.exe')"
   ]
  },
  {
   "cell_type": "code",
   "execution_count": 3,
   "id": "bde8f1b6",
   "metadata": {},
   "outputs": [],
   "source": [
    "driver.get('https://www.azquotes.com/')\n",
    "time.sleep(5)"
   ]
  },
  {
   "cell_type": "code",
   "execution_count": 4,
   "id": "173043f8",
   "metadata": {},
   "outputs": [],
   "source": [
    "Top_quotes = driver.find_element(By.XPATH,'//*[@id=\"menu\"]/div/div[3]/ul/li[5]/a')\n",
    "Top_quotes.click()"
   ]
  },
  {
   "cell_type": "code",
   "execution_count": 5,
   "id": "ff23f981",
   "metadata": {},
   "outputs": [],
   "source": [
    "Quote = []\n",
    "Author = []\n",
    "Type_Of_Quotes  = []"
   ]
  },
  {
   "cell_type": "code",
   "execution_count": 6,
   "id": "f66808c9",
   "metadata": {},
   "outputs": [],
   "source": [
    "start = 0\n",
    "end = 9\n",
    "for page in range(start,end):\n",
    "    quotes = driver.find_elements(By.XPATH,'/html/body/div[1]/div[2]/div/div/div/div[1]/div/ul/li[1]/div/p/a[2]')\n",
    "    for i in quotes:\n",
    "        titel_quotes = i.text\n",
    "        Quote.append(titel_quotes)\n",
    "    \n",
    "for page in range(start,end):\n",
    "    authors = driver.find_elements(By.XPATH,'//div[@class=\"author\"]')\n",
    "    for i in authors:\n",
    "        Author_list = i.text\n",
    "        Author.append(Author_list)\n",
    "\n",
    "for page in range(start,end):\n",
    "    Type_quotes = driver.find_elements(By.XPATH,'//div[@class=\"tags\"]')\n",
    "    for i in Type_quotes:\n",
    "        All_Quotes = i.text\n",
    "        Type_Of_Quotes.append(All_Quotes)\n",
    "        \n",
    "    Next_Butn=driver.find_element(By.XPATH,'//li[@class=\"next\"]')\n",
    "    Next_Butn.click()\n",
    "    time.sleep(5)"
   ]
  },
  {
   "cell_type": "code",
   "execution_count": 7,
   "id": "0d257641",
   "metadata": {},
   "outputs": [
    {
     "name": "stdout",
     "output_type": "stream",
     "text": [
      "14 5 6\n"
     ]
    }
   ],
   "source": [
    "print(len('Type_Of_Quotes'),len('Quote'),len('Author'))"
   ]
  },
  {
   "cell_type": "code",
   "execution_count": 11,
   "id": "5955d7d8",
   "metadata": {},
   "outputs": [
    {
     "data": {
      "text/html": [
       "<div>\n",
       "<style scoped>\n",
       "    .dataframe tbody tr th:only-of-type {\n",
       "        vertical-align: middle;\n",
       "    }\n",
       "\n",
       "    .dataframe tbody tr th {\n",
       "        vertical-align: top;\n",
       "    }\n",
       "\n",
       "    .dataframe thead th {\n",
       "        text-align: right;\n",
       "    }\n",
       "</style>\n",
       "<table border=\"1\" class=\"dataframe\">\n",
       "  <thead>\n",
       "    <tr style=\"text-align: right;\">\n",
       "      <th></th>\n",
       "      <th>Quote</th>\n",
       "      <th>Author</th>\n",
       "      <th>Type_Of_Quotes</th>\n",
       "    </tr>\n",
       "  </thead>\n",
       "  <tbody>\n",
       "    <tr>\n",
       "      <th>0</th>\n",
       "      <td>The essence of strategy is choosing what not t...</td>\n",
       "      <td>Michael Porter</td>\n",
       "      <td>Essence, Deep Thought, Transcendentalism</td>\n",
       "    </tr>\n",
       "    <tr>\n",
       "      <th>1</th>\n",
       "      <td>The essence of strategy is choosing what not t...</td>\n",
       "      <td>Golda Meir</td>\n",
       "      <td>Inspiration, Past, Trying</td>\n",
       "    </tr>\n",
       "    <tr>\n",
       "      <th>2</th>\n",
       "      <td>The essence of strategy is choosing what not t...</td>\n",
       "      <td>Theodore Roosevelt</td>\n",
       "      <td>Country, Peace, War</td>\n",
       "    </tr>\n",
       "    <tr>\n",
       "      <th>3</th>\n",
       "      <td>The essence of strategy is choosing what not t...</td>\n",
       "      <td>Nelson Mandela</td>\n",
       "      <td>Inspirational, Motivational, Death</td>\n",
       "    </tr>\n",
       "    <tr>\n",
       "      <th>4</th>\n",
       "      <td>The essence of strategy is choosing what not t...</td>\n",
       "      <td>Erma Bombeck</td>\n",
       "      <td>4th Of July, Food, Patriotic</td>\n",
       "    </tr>\n",
       "  </tbody>\n",
       "</table>\n",
       "</div>"
      ],
      "text/plain": [
       "                                               Quote              Author  \\\n",
       "0  The essence of strategy is choosing what not t...      Michael Porter   \n",
       "1  The essence of strategy is choosing what not t...          Golda Meir   \n",
       "2  The essence of strategy is choosing what not t...  Theodore Roosevelt   \n",
       "3  The essence of strategy is choosing what not t...      Nelson Mandela   \n",
       "4  The essence of strategy is choosing what not t...        Erma Bombeck   \n",
       "\n",
       "                             Type_Of_Quotes  \n",
       "0  Essence, Deep Thought, Transcendentalism  \n",
       "1                 Inspiration, Past, Trying  \n",
       "2                       Country, Peace, War  \n",
       "3        Inspirational, Motivational, Death  \n",
       "4              4th Of July, Food, Patriotic  "
      ]
     },
     "execution_count": 11,
     "metadata": {},
     "output_type": "execute_result"
    }
   ],
   "source": [
    "df = pd.DataFrame()\n",
    "df['Quote'] = Quote[0:5]\n",
    "df['Author'] = Author[0:5]\n",
    "df['Type_Of_Quotes'] = Type_Of_Quotes[0:5]\n",
    "df"
   ]
  },
  {
   "cell_type": "code",
   "execution_count": 12,
   "id": "af82d2df",
   "metadata": {},
   "outputs": [],
   "source": [
    "driver.close()"
   ]
  },
  {
   "cell_type": "code",
   "execution_count": null,
   "id": "f8e17f60",
   "metadata": {},
   "outputs": [],
   "source": []
  },
  {
   "cell_type": "markdown",
   "id": "c458383f",
   "metadata": {},
   "source": [
    "# Solution 9:  Write a python program to display list of respected former Prime Ministers of India"
   ]
  },
  {
   "cell_type": "code",
   "execution_count": 2,
   "id": "b1ecb12e",
   "metadata": {},
   "outputs": [],
   "source": [
    "driver = webdriver.Chrome(r'C:\\Users\\VK Ojha\\Downloads\\chromedriver_win32\\chromedriver.exe')"
   ]
  },
  {
   "cell_type": "code",
   "execution_count": 3,
   "id": "c11cb81b",
   "metadata": {},
   "outputs": [],
   "source": [
    "driver.get('http://www.jagranjosh.com/')"
   ]
  },
  {
   "cell_type": "code",
   "execution_count": 6,
   "id": "a40792a8",
   "metadata": {},
   "outputs": [],
   "source": [
    "click_gk = driver.find_element(By.XPATH,'//*[@id=\"1540978020504\"]/div[2]/header/div[3]/ul/li[3]/a')\n",
    "click_gk.click()"
   ]
  },
  {
   "cell_type": "code",
   "execution_count": 8,
   "id": "10c79f78",
   "metadata": {},
   "outputs": [],
   "source": [
    "List = driver.find_element(By.XPATH,'//*[@id=\"popluarGK\"]/ul/li[2]/a')\n",
    "List.click()"
   ]
  },
  {
   "cell_type": "code",
   "execution_count": 9,
   "id": "fbea9c95",
   "metadata": {},
   "outputs": [],
   "source": [
    "Name = []\n",
    "Born_Dead = []\n",
    "Term_of_office = []\n",
    "Remark = []"
   ]
  },
  {
   "cell_type": "code",
   "execution_count": 10,
   "id": "1e06d5c6",
   "metadata": {},
   "outputs": [],
   "source": [
    "PM_Name = driver.find_elements(By.XPATH,'/html/body/div[1]/div[2]/div/div[2]/div/div[2]/div/div/div/div[4]/span/div[3]/table/tbody/tr[2]/td[4]')\n",
    "for i in PM_Name:\n",
    "    Name_List = i.text\n",
    "    Name.append(Name_List)\n",
    "    \n",
    "DOB = driver.find_elements(By.XPATH,'/html/body/div[1]/div[2]/div/div[2]/div/div[2]/div/div/div/div[4]/span/div[3]/table/tbody/tr[2]/td[3]')\n",
    "for i in DOB:\n",
    "    Birth_dead = i.text\n",
    "    Born_Dead.append(Birth_dead)\n",
    "    \n",
    "Office_term = driver.find_elements(By.XPATH,'/html/body/div[1]/div[2]/div/div[2]/div/div[2]/div/div/div/div[4]/span/div[3]/table/tbody/tr[2]/td[4]')\n",
    "for i in Office_term:\n",
    "    term = i.text\n",
    "    Term_of_office.append(term)\n",
    "    \n",
    "all_remarks = driver.find_elements(By.XPATH,'/html/body/div[1]/div[2]/div/div[2]/div/div[2]/div/div/div/div[4]/span/div[3]/table/tbody/tr[2]/td[5]')\n",
    "for i in all_remarks:\n",
    "    remarks = i.text\n",
    "    Remark.append(remarks)"
   ]
  },
  {
   "cell_type": "code",
   "execution_count": 11,
   "id": "88d383b2",
   "metadata": {},
   "outputs": [
    {
     "name": "stdout",
     "output_type": "stream",
     "text": [
      "4 9 14 6\n"
     ]
    }
   ],
   "source": [
    "print(len('Name'),len('Born_Dead'),len('Term_of_office'),len('Remark'))"
   ]
  },
  {
   "cell_type": "code",
   "execution_count": 12,
   "id": "1980dea6",
   "metadata": {},
   "outputs": [
    {
     "data": {
      "text/html": [
       "<div>\n",
       "<style scoped>\n",
       "    .dataframe tbody tr th:only-of-type {\n",
       "        vertical-align: middle;\n",
       "    }\n",
       "\n",
       "    .dataframe tbody tr th {\n",
       "        vertical-align: top;\n",
       "    }\n",
       "\n",
       "    .dataframe thead th {\n",
       "        text-align: right;\n",
       "    }\n",
       "</style>\n",
       "<table border=\"1\" class=\"dataframe\">\n",
       "  <thead>\n",
       "    <tr style=\"text-align: right;\">\n",
       "      <th></th>\n",
       "      <th>Name</th>\n",
       "      <th>Born_Dead</th>\n",
       "      <th>Term_of_office</th>\n",
       "      <th>Remark</th>\n",
       "    </tr>\n",
       "  </thead>\n",
       "  <tbody>\n",
       "  </tbody>\n",
       "</table>\n",
       "</div>"
      ],
      "text/plain": [
       "Empty DataFrame\n",
       "Columns: [Name, Born_Dead, Term_of_office, Remark]\n",
       "Index: []"
      ]
     },
     "execution_count": 12,
     "metadata": {},
     "output_type": "execute_result"
    }
   ],
   "source": [
    "df = pd.DataFrame()\n",
    "df['Name'] = Name\n",
    "df['Born_Dead'] = Born_Dead\n",
    "df['Term_of_office'] = Term_of_office\n",
    "df['Remark'] = Remark\n",
    "df"
   ]
  },
  {
   "cell_type": "code",
   "execution_count": 13,
   "id": "3735a80b",
   "metadata": {},
   "outputs": [],
   "source": [
    "driver.close()"
   ]
  },
  {
   "cell_type": "markdown",
   "id": "f760bb89",
   "metadata": {},
   "source": [
    "# Solution 10: Write a python program to display list of 50 Most expensive cars in the world "
   ]
  },
  {
   "cell_type": "code",
   "execution_count": 14,
   "id": "d4091b56",
   "metadata": {},
   "outputs": [],
   "source": [
    "driver = webdriver.Chrome(r'‪C:\\Users\\VK Ojha\\Downloads\\chromedriver_win32\\chromedriver.exe')"
   ]
  },
  {
   "cell_type": "code",
   "execution_count": 15,
   "id": "4b9e25be",
   "metadata": {},
   "outputs": [],
   "source": [
    "driver.get('https://www.motor1.com/')"
   ]
  },
  {
   "cell_type": "code",
   "execution_count": 16,
   "id": "116148f1",
   "metadata": {},
   "outputs": [],
   "source": [
    "Drop_down = driver.find_element(By.CLASS_NAME,'m1-hamburger-button')\n",
    "Drop_down.click()"
   ]
  },
  {
   "cell_type": "code",
   "execution_count": 17,
   "id": "e7aad96e",
   "metadata": {},
   "outputs": [],
   "source": [
    "Features_click = driver.find_element(By.XPATH,'/html/body/div[4]/div[1]/div[3]/ul/li[5]/button')\n",
    "Features_click.click()"
   ]
  },
  {
   "cell_type": "code",
   "execution_count": 18,
   "id": "fd692233",
   "metadata": {},
   "outputs": [],
   "source": [
    "click_list= driver.find_element(By.XPATH,'/html/body/div[4]/div[1]/div[3]/ul/li[6]/ul/li[1]/a')\n",
    "click_list.click()"
   ]
  },
  {
   "cell_type": "code",
   "execution_count": 19,
   "id": "d4ffa927",
   "metadata": {},
   "outputs": [],
   "source": [
    "click_link =  driver.find_element(By.XPATH,'//*[@id=\"page_index_articles_browse\"]/div[8]/div[1]/div[1]/div/div/div[8]/div/div[1]/h3/a')\n",
    "click_link.click()"
   ]
  },
  {
   "cell_type": "code",
   "execution_count": 20,
   "id": "9283fbeb",
   "metadata": {},
   "outputs": [],
   "source": [
    "Car_Name = []\n",
    "Price = []"
   ]
  },
  {
   "cell_type": "code",
   "execution_count": 21,
   "id": "59c1c668",
   "metadata": {},
   "outputs": [],
   "source": [
    "name = driver.find_elements(By.XPATH,'/html/body/div[3]/div[7]/div[2]/div[1]/div[2]/div[1]/h3[1]')\n",
    "for i in name:\n",
    "    Name_Car = i.text\n",
    "    Car_Name.append(Name_Car)\n",
    "time.sleep(5)\n",
    "    \n",
    "MRP = driver.find_elements(By.XPATH,'/html/body/div[3]/div[7]/div[2]/div[1]/div[2]/div[1]/p[8]/strong')\n",
    "for i in MRP:\n",
    "    Car_Price = i.text\n",
    "    Price.append(Car_Price)\n",
    "time.sleep(5)"
   ]
  },
  {
   "cell_type": "code",
   "execution_count": 22,
   "id": "92df68dc",
   "metadata": {},
   "outputs": [
    {
     "name": "stdout",
     "output_type": "stream",
     "text": [
      "8 5\n"
     ]
    }
   ],
   "source": [
    "print(len('Car_Name'),len('Price'))"
   ]
  },
  {
   "cell_type": "code",
   "execution_count": 23,
   "id": "f976fd80",
   "metadata": {},
   "outputs": [
    {
     "data": {
      "text/html": [
       "<div>\n",
       "<style scoped>\n",
       "    .dataframe tbody tr th:only-of-type {\n",
       "        vertical-align: middle;\n",
       "    }\n",
       "\n",
       "    .dataframe tbody tr th {\n",
       "        vertical-align: top;\n",
       "    }\n",
       "\n",
       "    .dataframe thead th {\n",
       "        text-align: right;\n",
       "    }\n",
       "</style>\n",
       "<table border=\"1\" class=\"dataframe\">\n",
       "  <thead>\n",
       "    <tr style=\"text-align: right;\">\n",
       "      <th></th>\n",
       "      <th>Car_Name</th>\n",
       "      <th>Price</th>\n",
       "    </tr>\n",
       "  </thead>\n",
       "  <tbody>\n",
       "    <tr>\n",
       "      <th>0</th>\n",
       "      <td>De Tomaso P72</td>\n",
       "      <td>Price: $1.4 Million</td>\n",
       "    </tr>\n",
       "  </tbody>\n",
       "</table>\n",
       "</div>"
      ],
      "text/plain": [
       "        Car_Name                Price\n",
       "0  De Tomaso P72  Price: $1.4 Million"
      ]
     },
     "execution_count": 23,
     "metadata": {},
     "output_type": "execute_result"
    }
   ],
   "source": [
    "df = pd.DataFrame()\n",
    "df['Car_Name'] = Car_Name\n",
    "df['Price'] = Price\n",
    "df"
   ]
  },
  {
   "cell_type": "code",
   "execution_count": 24,
   "id": "f68465a6",
   "metadata": {},
   "outputs": [],
   "source": [
    "driver.close()"
   ]
  },
  {
   "cell_type": "code",
   "execution_count": null,
   "id": "506b01e0",
   "metadata": {},
   "outputs": [],
   "source": []
  }
 ],
 "metadata": {
  "kernelspec": {
   "display_name": "Python 3 (ipykernel)",
   "language": "python",
   "name": "python3"
  },
  "language_info": {
   "codemirror_mode": {
    "name": "ipython",
    "version": 3
   },
   "file_extension": ".py",
   "mimetype": "text/x-python",
   "name": "python",
   "nbconvert_exporter": "python",
   "pygments_lexer": "ipython3",
   "version": "3.9.13"
  }
 },
 "nbformat": 4,
 "nbformat_minor": 5
}
